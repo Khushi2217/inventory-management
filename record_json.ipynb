{
  "nbformat": 4,
  "nbformat_minor": 0,
  "metadata": {
    "colab": {
      "name": "record.json",
      "provenance": [],
      "collapsed_sections": []
    },
    "kernelspec": {
      "name": "python3",
      "display_name": "Python 3"
    },
    "language_info": {
      "name": "python"
    }
  },
  "cells": [
    {
      "cell_type": "code",
      "metadata": {
        "id": "UGh3S2rmkNTH"
      },
      "source": [
        "fd = open(\"record.json\" , 'r')\n",
        "r = fd.read()\n",
        "fd.close()"
      ],
      "execution_count": null,
      "outputs": []
    },
    {
      "cell_type": "code",
      "metadata": {
        "id": "Rs26U7iJk2iE"
      },
      "source": [
        "r"
      ],
      "execution_count": null,
      "outputs": []
    },
    {
      "cell_type": "code",
      "metadata": {
        "id": "GDn4ji1VlAL3"
      },
      "source": [
        "import json\n"
      ],
      "execution_count": null,
      "outputs": []
    },
    {
      "cell_type": "code",
      "metadata": {
        "id": "VNtUWs5ClLXS"
      },
      "source": [
        "record = json.loads(r)"
      ],
      "execution_count": null,
      "outputs": []
    },
    {
      "cell_type": "code",
      "metadata": {
        "id": "PhiL6IuxlSE9"
      },
      "source": [
        "record"
      ],
      "execution_count": null,
      "outputs": []
    },
    {
      "cell_type": "code",
      "metadata": {
        "id": "NOhFnU9LlVcf",
        "colab": {
          "base_uri": "https://localhost:8080/"
        },
        "outputId": "8ae65854-f44f-4f72-9d10-793a57a1b0af"
      },
      "source": [
        "prod_id = str(input(\"Enter Product id: \"))\n",
        "name = str(input(\"Enter Name: \"))\n",
        "pr = int(input(\"Enter Price: \"))\n",
        "qn = int(input(\"Enter Quantity: \"))\n",
        "discount = int(input(\"Enter discount: \"))\n",
        "record[prod_id] = {'name': name, 'pr': pr, 'qn': qn , 'discount': discount}\n"
      ],
      "execution_count": null,
      "outputs": [
        {
          "name": "stdout",
          "output_type": "stream",
          "text": [
            "Enter Product id: 1002\n"
          ]
        }
      ]
    },
    {
      "cell_type": "code",
      "metadata": {
        "colab": {
          "base_uri": "https://localhost:8080/"
        },
        "id": "OP8Qjk0olwtj",
        "outputId": "fac7bc66-0b20-4d40-c48d-42196392bed3"
      },
      "source": [
        "{prod_id : {'name': name, 'pr': pr, 'qn': qn , 'discount' : discount}}"
      ],
      "execution_count": null,
      "outputs": [
        {
          "output_type": "execute_result",
          "data": {
            "text/plain": [
              "{'1002': {'discount': 7, 'name': 'Milk Cake', 'pr': 50, 'qn': 6}}"
            ]
          },
          "metadata": {},
          "execution_count": 7
        }
      ]
    },
    {
      "cell_type": "code",
      "metadata": {
        "colab": {
          "base_uri": "https://localhost:8080/"
        },
        "id": "hy5ntHx4mHe1",
        "outputId": "443385a3-563f-4847-91a3-50ec14d5bc7b"
      },
      "source": [
        "record"
      ],
      "execution_count": null,
      "outputs": [
        {
          "output_type": "execute_result",
          "data": {
            "text/plain": [
              "{'1001': {'discount': 20, 'name': 'Choco Cake', 'pr': 100, 'qn': 34},\n",
              " '1002': {'discount': 7, 'name': 'Milk Cake', 'pr': 50, 'qn': 6},\n",
              " '1003': {'discount': 10, 'name': 'Drink', 'pr': 85, 'qn': 100},\n",
              " '1004': {'discount': 45, 'name': 'Candy', 'pr': 5, 'qn': 1000},\n",
              " '1005': {'discount': 25, 'name': 'Pen', 'pr': 20, 'qn': 100},\n",
              " '1006': {'discount': 20, 'name': 'Phone', 'pr': 50000, 'qn': 10},\n",
              " '1007': {'discount': 55, 'name': 'Mic', 'pr': 1500, 'qn': 10},\n",
              " '1008': {'discount': 60, 'name': 'Case', 'pr': 599, 'qn': 5},\n",
              " '1009': {'discount': 40, 'name': 'Keyboard', 'pr': 1999, 'qn': 10}}"
            ]
          },
          "metadata": {},
          "execution_count": 8
        }
      ]
    },
    {
      "cell_type": "code",
      "metadata": {
        "colab": {
          "base_uri": "https://localhost:8080/"
        },
        "id": "Uu9VkTimnCcK",
        "outputId": "5899267f-69d1-4015-dbdb-48ed1b4a6823"
      },
      "source": [
        "prod_id = str(input(\"Enter Product id: \"))\n",
        "name = str(input(\"Enter Name: \"))\n",
        "pr = int(input(\"Enter Price: \"))\n",
        "qn = int(input(\"Enter Quantity: \"))\n",
        "discount = int(input(\"Enter discount: \"))\n",
        "\n",
        "record[prod_id] = {'name': name, 'pr': pr, 'qn': qn , 'discount': discount}\n",
        "\n",
        "\n"
      ],
      "execution_count": null,
      "outputs": [
        {
          "name": "stdout",
          "output_type": "stream",
          "text": [
            "Enter Product id: 1011\n",
            "Enter Name: cream\n",
            "Enter Price: 600\n",
            "Enter Quantity: 50\n",
            "Enter discount: 20\n"
          ]
        }
      ]
    },
    {
      "cell_type": "code",
      "metadata": {
        "colab": {
          "base_uri": "https://localhost:8080/"
        },
        "id": "s9vhJRisncnl",
        "outputId": "9444c6a7-2147-4b8e-a7e6-ef4a772e2dd2"
      },
      "source": [
        "record"
      ],
      "execution_count": null,
      "outputs": [
        {
          "output_type": "execute_result",
          "data": {
            "text/plain": [
              "{'1001': {'discount': 20, 'name': 'Choco Cake', 'pr': 100, 'qn': 34},\n",
              " '1002': {'discount': 7, 'name': 'Milk Cake', 'pr': 50, 'qn': 6},\n",
              " '1003': {'discount': 10, 'name': 'Drink', 'pr': 85, 'qn': 100},\n",
              " '1004': {'discount': 45, 'name': 'Candy', 'pr': 5, 'qn': 1000},\n",
              " '1005': {'discount': 25, 'name': 'Pen', 'pr': 20, 'qn': 100},\n",
              " '1006': {'discount': 20, 'name': 'Phone', 'pr': 50000, 'qn': 10},\n",
              " '1007': {'discount': 55, 'name': 'Mic', 'pr': 1500, 'qn': 10},\n",
              " '1008': {'discount': 60, 'name': 'Case', 'pr': 599, 'qn': 5},\n",
              " '1009': {'discount': 40, 'name': 'Keyboard', 'pr': 1999, 'qn': 10},\n",
              " '1011': {'discount': 20, 'name': 'cream', 'pr': 600, 'qn': 50}}"
            ]
          },
          "metadata": {},
          "execution_count": 10
        }
      ]
    },
    {
      "cell_type": "code",
      "metadata": {
        "colab": {
          "base_uri": "https://localhost:8080/"
        },
        "id": "8nZKceSfqc1Y",
        "outputId": "76dd1573-8709-423a-dc48-661f50043f08"
      },
      "source": [
        "prod_id = str(input(\"Enter Product id: \"))\n",
        "name = str(input(\"Enter Name: \"))\n",
        "pr = int(input(\"Enter Price: \"))\n",
        "qn = int(input(\"Enter Quantity: \"))\n",
        "discount = int(input(\"Enter discount: \"))\n",
        "\n",
        "record[prod_id] = {'name': name, 'pr': pr, 'qn': qn , 'discount': discount}\n",
        "\n",
        "\n",
        "js = json.dumps(record)\n",
        "fd = open(\"record.json\", 'w')\n",
        "fd.write(js)\n",
        "fd.close()"
      ],
      "execution_count": null,
      "outputs": [
        {
          "name": "stdout",
          "output_type": "stream",
          "text": [
            "Enter Product id: 1024\n",
            "Enter Name: mat\n",
            "Enter Price: 43\n",
            "Enter Quantity: 21\n",
            "Enter discount: 13\n"
          ]
        }
      ]
    },
    {
      "cell_type": "code",
      "metadata": {
        "colab": {
          "base_uri": "https://localhost:8080/"
        },
        "id": "N-BJshXmrawR",
        "outputId": "b9867823-5ace-41a9-d3ac-5192ba051414"
      },
      "source": [
        "record"
      ],
      "execution_count": null,
      "outputs": [
        {
          "output_type": "execute_result",
          "data": {
            "text/plain": [
              "{'1001': {'discount': 20, 'name': 'Choco Cake', 'pr': 100, 'qn': 34},\n",
              " '1002': {'discount': 7, 'name': 'Milk Cake', 'pr': 50, 'qn': 6},\n",
              " '1003': {'discount': 10, 'name': 'Drink', 'pr': 85, 'qn': 100},\n",
              " '1004': {'discount': 45, 'name': 'Candy', 'pr': 5, 'qn': 1000},\n",
              " '1005': {'discount': 25, 'name': 'Pen', 'pr': 20, 'qn': 100},\n",
              " '1006': {'discount': 20, 'name': 'Phone', 'pr': 50000, 'qn': 10},\n",
              " '1007': {'discount': 55, 'name': 'Mic', 'pr': 1500, 'qn': 10},\n",
              " '1008': {'discount': 60, 'name': 'Case', 'pr': 599, 'qn': 5},\n",
              " '1009': {'discount': 40, 'name': 'Keyboard', 'pr': 1999, 'qn': 10},\n",
              " '1011': {'discount': 20, 'name': 'cream', 'pr': 600, 'qn': 50}}"
            ]
          },
          "metadata": {},
          "execution_count": 11
        }
      ]
    },
    {
      "cell_type": "code",
      "metadata": {
        "id": "ILL_l9NhslKF"
      },
      "source": [
        ""
      ],
      "execution_count": null,
      "outputs": []
    },
    {
      "cell_type": "code",
      "metadata": {
        "colab": {
          "base_uri": "https://localhost:8080/"
        },
        "id": "vnfLWQ6ssmEH",
        "outputId": "92a582fe-3c3f-459a-edbd-569b2d20d58e"
      },
      "source": [
        "\n",
        "ui_prod = str(input(\"Enter product id: \"))\n",
        "ui_quan = int(input(\"Enter Quantity: \"))\n",
        "ui_dis = int(input(\"Enter Discount: \"))\n",
        "\n"
      ],
      "execution_count": null,
      "outputs": [
        {
          "name": "stdout",
          "output_type": "stream",
          "text": [
            "Enter product id: 1002\n",
            "Enter Quantity: 5\n",
            "Enter Discount: 5\n"
          ]
        }
      ]
    },
    {
      "cell_type": "code",
      "metadata": {
        "colab": {
          "base_uri": "https://localhost:8080/"
        },
        "id": "xUxV7i5btwex",
        "outputId": "ee915b3e-c377-4bc9-80b0-e47afb02e62d"
      },
      "source": [
        "print(\"Product: \" , record[ui_prod]['name'])\n",
        "print(\"Price: \" , record[ui_prod]['pr'])\n",
        "print(\"Billing Amount: \" , record[ui_prod]['pr'] * ui_quan)\n",
        "print(\"Discount: \" ,  (ui_dis / (record[ui_prod]['pr']))*100)\n",
        "\n",
        "record[ui_prod]['qn'] = record[ui_prod]['qn'] - ui_quan"
      ],
      "execution_count": null,
      "outputs": [
        {
          "output_type": "stream",
          "name": "stdout",
          "text": [
            "Product:  Milk Cake\n",
            "Price:  800\n",
            "Billing Amount:  4000\n",
            "Discount:  0.625\n"
          ]
        }
      ]
    },
    {
      "cell_type": "code",
      "metadata": {
        "colab": {
          "base_uri": "https://localhost:8080/"
        },
        "id": "mN-JrEAWuZQt",
        "outputId": "ef558844-3e65-4fb4-88d3-734a0a46f2fc"
      },
      "source": [
        "record[ui_prod]['qn'] - ui_quan"
      ],
      "execution_count": null,
      "outputs": [
        {
          "output_type": "execute_result",
          "data": {
            "text/plain": [
              "90"
            ]
          },
          "metadata": {},
          "execution_count": 17
        }
      ]
    },
    {
      "cell_type": "code",
      "metadata": {
        "id": "Uw3DRCmBumMO"
      },
      "source": [
        "record[ui_prod]['qn'] = record[ui_prod]['qn'] - ui_quan"
      ],
      "execution_count": null,
      "outputs": []
    },
    {
      "cell_type": "code",
      "metadata": {
        "id": "RmkTUAXzpS4J"
      },
      "source": [
        ""
      ],
      "execution_count": null,
      "outputs": []
    },
    {
      "cell_type": "code",
      "metadata": {
        "id": "6L3pg1jnvtJj"
      },
      "source": [
        "import time\n",
        "\n",
        "t = time.ctime()"
      ],
      "execution_count": null,
      "outputs": []
    },
    {
      "cell_type": "code",
      "metadata": {
        "colab": {
          "base_uri": "https://localhost:8080/",
          "height": 35
        },
        "id": "olNZgMUHv54q",
        "outputId": "87d92024-5a95-41b5-f037-e2086685fd38"
      },
      "source": [
        "t"
      ],
      "execution_count": null,
      "outputs": [
        {
          "output_type": "execute_result",
          "data": {
            "application/vnd.google.colaboratory.intrinsic+json": {
              "type": "string"
            },
            "text/plain": [
              "'Mon Sep  6 09:27:50 2021'"
            ]
          },
          "metadata": {},
          "execution_count": 20
        }
      ]
    },
    {
      "cell_type": "code",
      "metadata": {
        "id": "4rQHMhDCv9Lj"
      },
      "source": [
        ""
      ],
      "execution_count": null,
      "outputs": []
    },
    {
      "cell_type": "code",
      "metadata": {
        "colab": {
          "base_uri": "https://localhost:8080/"
        },
        "id": "3T57zqiXun90",
        "outputId": "5823bad1-9984-49dd-9d20-7bf6ea49fb23"
      },
      "source": [
        "record"
      ],
      "execution_count": null,
      "outputs": [
        {
          "output_type": "execute_result",
          "data": {
            "text/plain": [
              "{'1001': {'discount': 20, 'name': 'Choco Cake', 'pr': 100, 'qn': 34},\n",
              " '1002': {'discount': 50, 'name': 'Milk Cake', 'pr': 800, 'qn': 90},\n",
              " '1003': {'discount': 10, 'name': 'Drink', 'pr': 85, 'qn': 100},\n",
              " '1004': {'discount': 45, 'name': 'Candy', 'pr': 5, 'qn': 1000},\n",
              " '1005': {'discount': 25, 'name': 'Pen', 'pr': 20, 'qn': 100},\n",
              " '1006': {'discount': 20, 'name': 'Phone', 'pr': 50000, 'qn': 10},\n",
              " '1007': {'discount': 55, 'name': 'Mic', 'pr': 1500, 'qn': 10},\n",
              " '1008': {'discount': 60, 'name': 'Case', 'pr': 599, 'qn': 5},\n",
              " '1009': {'discount': 40, 'name': 'Keyboard', 'pr': 1999, 'qn': 10},\n",
              " '1023': {'discount': 21, 'name': 'bag', 'pr': 650, 'qn': 20},\n",
              " '1024': {'discount': 13, 'name': 'mat', 'pr': 43, 'qn': 21},\n",
              " '1032': {'discount': 21, 'name': 'bottle', 'pr': 34, 'qn': 5}}"
            ]
          },
          "metadata": {},
          "execution_count": 21
        }
      ]
    }
  ]
}