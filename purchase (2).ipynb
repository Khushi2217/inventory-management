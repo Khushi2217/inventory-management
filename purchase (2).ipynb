{
  "nbformat": 4,
  "nbformat_minor": 0,
  "metadata": {
    "colab": {
      "name": "purchase",
      "provenance": [],
      "collapsed_sections": []
    },
    "kernelspec": {
      "name": "python3",
      "display_name": "Python 3"
    },
    "language_info": {
      "name": "python"
    }
  },
  "cells": [
    {
      "cell_type": "code",
      "metadata": {
        "id": "_U_sA6jerXz4"
      },
      "source": [
        ""
      ],
      "execution_count": 10,
      "outputs": []
    },
    {
      "cell_type": "markdown",
      "metadata": {
        "id": "-YE82PoHYUpQ"
      },
      "source": [
        "## PURCHASE"
      ]
    },
    {
      "cell_type": "code",
      "metadata": {
        "id": "Oj0oXI8jYkzi"
      },
      "source": [
        "fd = open(\"purchase.ipynb\" , 'r')\n",
        "r = fd.read()\n",
        "fd.close()\n",
        "\n"
      ],
      "execution_count": 17,
      "outputs": []
    },
    {
      "cell_type": "code",
      "metadata": {
        "colab": {
          "base_uri": "https://localhost:8080/",
          "height": 122
        },
        "id": "1X1tk7ahZMu9",
        "outputId": "37ee23fc-3af0-483f-923b-c056b9a8c4c0"
      },
      "source": [
        "r"
      ],
      "execution_count": 18,
      "outputs": [
        {
          "output_type": "execute_result",
          "data": {
            "application/vnd.google.colaboratory.intrinsic+json": {
              "type": "string"
            },
            "text/plain": [
              "'{\"1001\": {\"name\": \"Choco Cake\", \"qn\": 34, \"pr\": 100}, \"1002\": {\"name\": \"Milk Cake\", \"pr\": 800, \"qn\": 100}, \"1003\": {\"name\": \"Drink\", \"pr\": 85, \"qn\": 100}, \"1004\": {\"name\": \"Candy\", \"pr\": 5, \"qn\": 1000}, \"1005\": {\"name\": \"Pen\", \"pr\": 20, \"qn\": 100}, \"1006\": {\"name\": \"Phone\", \"pr\": 50000, \"qn\": 10}, \"1007\": {\"name\": \"Mic\", \"pr\": 1500, \"qn\": 0}, \"1008\": {\"name\": \"Case\", \"pr\": 599, \"qn\": 5}, \"1009\": {\"name\": \"Keyboard\", \"pr\": 1999, \"qn\": 10}} '"
            ]
          },
          "metadata": {},
          "execution_count": 18
        }
      ]
    },
    {
      "cell_type": "code",
      "metadata": {
        "colab": {
          "base_uri": "https://localhost:8080/"
        },
        "id": "yYTXQm3wZQSv",
        "outputId": "593364ae-730d-4bfe-9ccc-0251ea328240"
      },
      "source": [
        "\n",
        "with open('purchase.ipynb') as file:\n",
        "          data = json.load(file)\n",
        "print(data)"
      ],
      "execution_count": 20,
      "outputs": [
        {
          "output_type": "stream",
          "name": "stdout",
          "text": [
            "{'1001': {'name': 'Choco Cake', 'qn': 34, 'pr': 100}, '1002': {'name': 'Milk Cake', 'pr': 800, 'qn': 100}, '1003': {'name': 'Drink', 'pr': 85, 'qn': 100}, '1004': {'name': 'Candy', 'pr': 5, 'qn': 1000}, '1005': {'name': 'Pen', 'pr': 20, 'qn': 100}, '1006': {'name': 'Phone', 'pr': 50000, 'qn': 10}, '1007': {'name': 'Mic', 'pr': 1500, 'qn': 0}, '1008': {'name': 'Case', 'pr': 599, 'qn': 5}, '1009': {'name': 'Keyboard', 'pr': 1999, 'qn': 10}}\n"
          ]
        }
      ]
    },
    {
      "cell_type": "code",
      "metadata": {
        "id": "4TPcZXMarqRc",
        "colab": {
          "base_uri": "https://localhost:8080/"
        },
        "outputId": "84b137ff-4871-49a3-fc0c-a9cc2266a9f9"
      },
      "source": [
        "prod_id = str(input(\"Enter Product id: \"))\n",
        "name = str(input(\"Enter Name: \"))\n",
        "pr = int(input(\"Enter Price: \"))\n",
        "qn = int(input(\"Enter Quantity: \"))"
      ],
      "execution_count": 21,
      "outputs": [
        {
          "name": "stdout",
          "output_type": "stream",
          "text": [
            "Enter Product id: 1001\n",
            "Enter Name: Choco Cake\n",
            "Enter Price: 34\n",
            "Enter Quantity: 7\n"
          ]
        }
      ]
    },
    {
      "cell_type": "code",
      "metadata": {
        "colab": {
          "base_uri": "https://localhost:8080/"
        },
        "id": "5jvM27iddAW0",
        "outputId": "b7053f2d-1818-4271-b9ac-ee41b2bf952a"
      },
      "source": [
        "data[ui_prod]"
      ],
      "execution_count": 25,
      "outputs": [
        {
          "output_type": "execute_result",
          "data": {
            "text/plain": [
              "{'name': 'Milk Cake', 'pr': 800, 'qn': 100}"
            ]
          },
          "metadata": {},
          "execution_count": 25
        }
      ]
    },
    {
      "cell_type": "code",
      "metadata": {
        "colab": {
          "base_uri": "https://localhost:8080/"
        },
        "id": "g2xAsO05jCHj",
        "outputId": "28e66bef-8eb1-4164-e4a6-f427c646e8dd"
      },
      "source": [
        "data[ui_prod]['pr']"
      ],
      "execution_count": 26,
      "outputs": [
        {
          "output_type": "execute_result",
          "data": {
            "text/plain": [
              "800"
            ]
          },
          "metadata": {},
          "execution_count": 26
        }
      ]
    },
    {
      "cell_type": "code",
      "metadata": {
        "colab": {
          "base_uri": "https://localhost:8080/"
        },
        "id": "7-6UUTnnjMne",
        "outputId": "2b753b77-5547-4f47-ca9d-7ef5d7c63733"
      },
      "source": [
        "data[ui_prod]['pr']* ui_quan"
      ],
      "execution_count": 27,
      "outputs": [
        {
          "output_type": "execute_result",
          "data": {
            "text/plain": [
              "3200"
            ]
          },
          "metadata": {},
          "execution_count": 27
        }
      ]
    },
    {
      "cell_type": "code",
      "metadata": {
        "colab": {
          "base_uri": "https://localhost:8080/"
        },
        "id": "H7AUnaZ5kIvA",
        "outputId": "e751d0e4-4cc1-4df7-c3d9-ba880a7274fa"
      },
      "source": [
        "ui_prod = str(input(\"Enter product id: \"))\n",
        "ui_quan = int(input(\"Enter Quantity: \"))\n",
        "ui_dis = int(input(\"Enter Discount: \"))\n",
        "\n",
        "\n",
        "print(\"Product: \" , data[ui_prod]['name'])\n",
        "print(\"Price: \" , data[ui_prod]['pr'])\n",
        "print(\"Billing Amount: \" , data[ui_prod]['pr'] * ui_quan)\n",
        "print(\"Discount: \" ,  (ui_dis / (data[ui_prod]['pr']))*100)\n",
        "\n",
        "data[ui_prod]['qn'] = data[ui_prod]['qn'] - ui_quan"
      ],
      "execution_count": 28,
      "outputs": [
        {
          "output_type": "stream",
          "name": "stdout",
          "text": [
            "Enter product id: 1002\n",
            "Enter Quantity: 5\n",
            "Enter Discount: 40\n",
            "Product:  Milk Cake\n",
            "Price:  800\n",
            "Billing Amount:  4000\n",
            "Discount:  5.0\n"
          ]
        }
      ]
    },
    {
      "cell_type": "code",
      "metadata": {
        "colab": {
          "base_uri": "https://localhost:8080/"
        },
        "id": "qOwa-GKMk-Nf",
        "outputId": "1415d8b3-33af-47ab-dbb5-daaa1c17d3c3"
      },
      "source": [
        "data"
      ],
      "execution_count": 29,
      "outputs": [
        {
          "output_type": "execute_result",
          "data": {
            "text/plain": [
              "{'1001': {'name': 'Choco Cake', 'pr': 100, 'qn': 34},\n",
              " '1002': {'name': 'Milk Cake', 'pr': 800, 'qn': 95},\n",
              " '1003': {'name': 'Drink', 'pr': 85, 'qn': 100},\n",
              " '1004': {'name': 'Candy', 'pr': 5, 'qn': 1000},\n",
              " '1005': {'name': 'Pen', 'pr': 20, 'qn': 100},\n",
              " '1006': {'name': 'Phone', 'pr': 50000, 'qn': 10},\n",
              " '1007': {'name': 'Mic', 'pr': 1500, 'qn': 0},\n",
              " '1008': {'name': 'Case', 'pr': 599, 'qn': 5},\n",
              " '1009': {'name': 'Keyboard', 'pr': 1999, 'qn': 10}}"
            ]
          },
          "metadata": {},
          "execution_count": 29
        }
      ]
    }
  ]
}