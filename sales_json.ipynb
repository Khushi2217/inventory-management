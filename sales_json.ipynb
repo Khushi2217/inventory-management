{
  "nbformat": 4,
  "nbformat_minor": 0,
  "metadata": {
    "colab": {
      "name": "sales.json",
      "provenance": [],
      "collapsed_sections": []
    },
    "kernelspec": {
      "name": "python3",
      "display_name": "Python 3"
    },
    "language_info": {
      "name": "python"
    }
  },
  "cells": [
    {
      "cell_type": "code",
      "metadata": {
        "id": "9-O_PsjKVaGk"
      },
      "source": [
        "fd = open(\"record.json\" , 'r')\n",
        "r = fd.read()\n",
        "fd.close()\n",
        " \n"
      ],
      "execution_count": 65,
      "outputs": []
    },
    {
      "cell_type": "code",
      "metadata": {
        "colab": {
          "base_uri": "https://localhost:8080/",
          "height": 139
        },
        "id": "CAnOTD1neNet",
        "outputId": "8e18260c-f590-4f11-f863-0f9e0b288814"
      },
      "source": [
        "r"
      ],
      "execution_count": 66,
      "outputs": [
        {
          "output_type": "execute_result",
          "data": {
            "application/vnd.google.colaboratory.intrinsic+json": {
              "type": "string"
            },
            "text/plain": [
              "'{\"1001\": {\"discount\": 55,\"name\": \"Choco Cake\", \"qn\": 34, \"pr\": 100 }, \"1002\": {\"discount\": 59,\"name\": \"Milk Cake\", \"pr\": 800, \"qn\": 100 }, \"1003\": {\"discount\": 10,\"name\": \"Drink\", \"pr\": 85, \"qn\": 100 }, \"1004\": {\"discount\": 45,\"name\": \"Candy\", \"pr\": 5, \"qn\": 1000 }, \"1005\": { \"discount\": 25,\"name\": \"Pen\", \"pr\": 20, \"qn\": 100 }, \"1006\": {\"discount\": 20,\"name\": \"Phone\", \"pr\": 50000, \"qn\": 10 }, \"1007\": { \"discount\": 55,\"name\": \"Mic\", \"pr\": 1500, \"qn\": 10 }, \"1008\": {\"discount\": 60,\"name\": \"Case\", \"pr\": 599, \"qn\": 5 }, \"1009\": {\"discount\": 40,\"name\": \"Keyboard\", \"pr\": 1999, \"qn\": 10}, \"1010\": {\"discount\": 12,\"name\": \"Milk \", \"pr\": 900, \"qn\": 100},\"1012\": {\"discount\": 5,\"name\": \"Milk \", \"pr\": 900, \"qn\": 100}, \"1013\": {\"discount\": 25,\"name\": \"pencil\", \"pr\": 75, \"qn\": 1000}, \"1014\": {\"discount\": 45,\"name\": \"Milk \", \"pr\": 900, \"qn\": 100}, \"1015\": {\"discount\": 7,\"name\": \"gems\", \"pr\": 28, \"qn\": 100},\"1016\": {\"discount\": 40,\"name\": \"butter\", \"pr\": 5000, \"qn\": 1000}, \"1017\": {\"discount\": 15,\"name\": \"Mat\", \"pr\": 1580, \"qn\": 0}, \"1018\": {\"discount\": 35,\"name\": \"Cassette\", \"pr\": 1599, \"qn\": 50}, \"1019\": {\"discount\": 50,\"name\": \"Keys\", \"pr\": 6999, \"qn\": 100},\"1020\": {\"discount\": 15,\"name\": \"cellotape\", \"pr\": 499, \"qn\": 1000},\"1021\": {\"discount\": 42,\"name\": \"Chocolate\", \"qn\": 634, \"pr\":500},\"1022\": {\"discount\": 12,\"name\": \"Jam\", \"pr\": 890, \"qn\": 100}, \"1023\": {\"discount\": 45,\"name\": \"bottles\", \"pr\": 285, \"qn\": 500}, \"1024\": {\"discount\": 38,\"name\": \"Can\", \"pr\": 59, \"qn\": 10},\"1025\": {\"discount\": 45,\"name\": \"Paper\", \"pr\": 27, \"qn\": 100},\"1026\": {\"discount\": 30,\"name\": \"bedsheet\", \"pr\": 50010, \"qn\": 50},\"1027\": {\"discount\": 32,\"name\": \"AC\", \"pr\": 1580, \"qn\": 0}, \"1028\": {\"discount\": 25,\"name\": \"SuitCase\", \"pr\": 899, \"qn\": 5}, \"1029\": {\"discount\": 25,\"name\": \"Suit\", \"pr\": 89, \"qn\": 5}, \"1030\": {\"discount\": 20,\"name\": \"Sweet\", \"pr\": 70, \"qn\": 90}}'"
            ]
          },
          "metadata": {},
          "execution_count": 66
        }
      ]
    },
    {
      "cell_type": "code",
      "metadata": {
        "id": "OJhE4vWaaXwK"
      },
      "source": [
        "import json"
      ],
      "execution_count": 53,
      "outputs": []
    },
    {
      "cell_type": "code",
      "metadata": {
        "colab": {
          "base_uri": "https://localhost:8080/"
        },
        "id": "31z8rVloeWR7",
        "outputId": "5cc6bcbc-bf09-410c-91e9-afeaa842e6da"
      },
      "source": [
        "len(r)"
      ],
      "execution_count": 54,
      "outputs": [
        {
          "output_type": "execute_result",
          "data": {
            "text/plain": [
              "1858"
            ]
          },
          "metadata": {},
          "execution_count": 54
        }
      ]
    },
    {
      "cell_type": "code",
      "metadata": {
        "id": "qC2Dn_wmdDsj"
      },
      "source": [
        "import json"
      ],
      "execution_count": 55,
      "outputs": []
    },
    {
      "cell_type": "code",
      "metadata": {
        "id": "5XI2RlzEdzkJ"
      },
      "source": [
        "filename = ' record.json '"
      ],
      "execution_count": 56,
      "outputs": []
    },
    {
      "cell_type": "code",
      "metadata": {
        "id": "VzDhi02Jd-Od"
      },
      "source": [
        "products = r.split(\"\\n\")\n"
      ],
      "execution_count": 57,
      "outputs": []
    },
    {
      "cell_type": "markdown",
      "metadata": {
        "id": "Nbwu2nhhwIU_"
      },
      "source": [
        ""
      ]
    },
    {
      "cell_type": "code",
      "metadata": {
        "colab": {
          "base_uri": "https://localhost:8080/"
        },
        "id": "N-XD7BkEjcaG",
        "outputId": "99aa128a-bd0a-403c-f465-7f994603c049"
      },
      "source": [
        "\n",
        "for i in products:\n",
        "  prod = i.split(\",\")\n",
        "  if(ui_prod == prod[0]  ):\n",
        "    print(\"'''''''''''''''''''''''''''''''''''''''''''''''''\")\n",
        "    print(\"Prod id :\" ,products[0])\n",
        "    print(\"Name: \" , products[1])\n",
        "    print(\"Price: \" ,products[2])\n",
        "    print(\"Quantity:\" ,ui_quan)\n",
        "\n",
        "    print(\"*******************************************************\")\n",
        "    print(\"Amount: \" ,   int(ui_quan) * int(prod[2]))\n",
        "    print(\"*******************************************************\")\n",
        "\n",
        "  "
      ],
      "execution_count": 58,
      "outputs": [
        {
          "name": "stdout",
          "output_type": "stream",
          "text": [
            "Enter product id: 1002\n",
            "Enter Quantity: 4\n"
          ]
        }
      ]
    },
    {
      "cell_type": "code",
      "metadata": {
        "id": "IraR6pwdfjlu"
      },
      "source": [
        "new_record = []\n",
        "\n",
        "for i in products:\n",
        "    prod = i.split(\",\")\n",
        "    if(ui_prod == prod[0]):\n",
        "      prod[3] = str(int(prod[3]) - int( ui_quan))\n",
        "\n",
        "    new_record.append(prod[0] + \",\" + prod[0] + \",\" \"\\n\")\n",
        "\n",
        "new_record[-1] = new_record[-1][:-1]    \n"
      ],
      "execution_count": 59,
      "outputs": []
    },
    {
      "cell_type": "code",
      "metadata": {
        "colab": {
          "base_uri": "https://localhost:8080/"
        },
        "id": "N0UHY1yLgekp",
        "outputId": "c7d714d1-2eba-4f22-89be-9df42ca304db"
      },
      "source": [
        "products\n"
      ],
      "execution_count": 60,
      "outputs": [
        {
          "output_type": "execute_result",
          "data": {
            "text/plain": [
              "['{\"1001\": {\"discount\": 55,\"name\": \"Choco Cake\", \"qn\": 34, \"pr\": 100 }, \"1002\": {\"discount\": 59,\"name\": \"Milk Cake\", \"pr\": 800, \"qn\": 100 }, \"1003\": {\"discount\": 10,\"name\": \"Drink\", \"pr\": 85, \"qn\": 100 }, \"1004\": {\"discount\": 45,\"name\": \"Candy\", \"pr\": 5, \"qn\": 1000 }, \"1005\": { \"discount\": 25,\"name\": \"Pen\", \"pr\": 20, \"qn\": 100 }, \"1006\": {\"discount\": 20,\"name\": \"Phone\", \"pr\": 50000, \"qn\": 10 }, \"1007\": { \"discount\": 55,\"name\": \"Mic\", \"pr\": 1500, \"qn\": 10 }, \"1008\": {\"discount\": 60,\"name\": \"Case\", \"pr\": 599, \"qn\": 5 }, \"1009\": {\"discount\": 40,\"name\": \"Keyboard\", \"pr\": 1999, \"qn\": 10}, \"1010\": {\"discount\": 12,\"name\": \"Milk \", \"pr\": 900, \"qn\": 100},\"1012\": {\"discount\": 5,\"name\": \"Milk \", \"pr\": 900, \"qn\": 100}, \"1013\": {\"discount\": 25,\"name\": \"pencil\", \"pr\": 75, \"qn\": 1000}, \"1014\": {\"discount\": 45,\"name\": \"Milk \", \"pr\": 900, \"qn\": 100}, \"1015\": {\"discount\": 7,\"name\": \"gems\", \"pr\": 28, \"qn\": 100},\"1016\": {\"discount\": 40,\"name\": \"butter\", \"pr\": 5000, \"qn\": 1000}, \"1017\": {\"discount\": 15,\"name\": \"Mat\", \"pr\": 1580, \"qn\": 0}, \"1018\": {\"discount\": 35,\"name\": \"Cassette\", \"pr\": 1599, \"qn\": 50}, \"1019\": {\"discount\": 50,\"name\": \"Keys\", \"pr\": 6999, \"qn\": 100},\"1020\": {\"discount\": 15,\"name\": \"cellotape\", \"pr\": 499, \"qn\": 1000},\"1021\": {\"discount\": 42,\"name\": \"Chocolate\", \"qn\": 634, \"pr\":500},\"1022\": {\"discount\": 12,\"name\": \"Jam\", \"pr\": 890, \"qn\": 100}, \"1023\": {\"discount\": 45,\"name\": \"bottles\", \"pr\": 285, \"qn\": 500}, \"1024\": {\"discount\": 38,\"name\": \"Can\", \"pr\": 59, \"qn\": 10},\"1025\": {\"discount\": 45,\"name\": \"Paper\", \"pr\": 27, \"qn\": 100},\"1026\": {\"discount\": 30,\"name\": \"bedsheet\", \"pr\": 50010, \"qn\": 50},\"1027\": {\"discount\": 32,\"name\": \"AC\", \"pr\": 1580, \"qn\": 0}, \"1028\": {\"discount\": 25,\"name\": \"SuitCase\", \"pr\": 899, \"qn\": 5}, \"1029\": {\"discount\": 25,\"name\": \"Suit\", \"pr\": 89, \"qn\": 5}, \"1030\": {\"discount\": 20,\"name\": \"Sweet\", \"pr\": 70, \"qn\": 90}}']"
            ]
          },
          "metadata": {},
          "execution_count": 60
        }
      ]
    },
    {
      "cell_type": "code",
      "metadata": {
        "colab": {
          "base_uri": "https://localhost:8080/"
        },
        "id": "Rjlqg-4BpLqq",
        "outputId": "3a294646-d0dc-4936-caf6-f09c0c536565"
      },
      "source": [
        "new_record"
      ],
      "execution_count": 61,
      "outputs": [
        {
          "output_type": "execute_result",
          "data": {
            "text/plain": [
              "['{\"1001\": {\"discount\": 55,{\"1001\": {\"discount\": 55,']"
            ]
          },
          "metadata": {},
          "execution_count": 61
        }
      ]
    },
    {
      "cell_type": "code",
      "metadata": {
        "colab": {
          "base_uri": "https://localhost:8080/"
        },
        "id": "ONr5BWnEqrea",
        "outputId": "43d0d9be-123a-46e1-fa64-ba6cd7085fc0"
      },
      "source": [
        "products[0].split(\",\")"
      ],
      "execution_count": 62,
      "outputs": [
        {
          "output_type": "execute_result",
          "data": {
            "text/plain": [
              "['{\"1001\": {\"discount\": 55',\n",
              " '\"name\": \"Choco Cake\"',\n",
              " ' \"qn\": 34',\n",
              " ' \"pr\": 100 }',\n",
              " ' \"1002\": {\"discount\": 59',\n",
              " '\"name\": \"Milk Cake\"',\n",
              " ' \"pr\": 800',\n",
              " ' \"qn\": 100 }',\n",
              " ' \"1003\": {\"discount\": 10',\n",
              " '\"name\": \"Drink\"',\n",
              " ' \"pr\": 85',\n",
              " ' \"qn\": 100 }',\n",
              " ' \"1004\": {\"discount\": 45',\n",
              " '\"name\": \"Candy\"',\n",
              " ' \"pr\": 5',\n",
              " ' \"qn\": 1000 }',\n",
              " ' \"1005\": { \"discount\": 25',\n",
              " '\"name\": \"Pen\"',\n",
              " ' \"pr\": 20',\n",
              " ' \"qn\": 100 }',\n",
              " ' \"1006\": {\"discount\": 20',\n",
              " '\"name\": \"Phone\"',\n",
              " ' \"pr\": 50000',\n",
              " ' \"qn\": 10 }',\n",
              " ' \"1007\": { \"discount\": 55',\n",
              " '\"name\": \"Mic\"',\n",
              " ' \"pr\": 1500',\n",
              " ' \"qn\": 10 }',\n",
              " ' \"1008\": {\"discount\": 60',\n",
              " '\"name\": \"Case\"',\n",
              " ' \"pr\": 599',\n",
              " ' \"qn\": 5 }',\n",
              " ' \"1009\": {\"discount\": 40',\n",
              " '\"name\": \"Keyboard\"',\n",
              " ' \"pr\": 1999',\n",
              " ' \"qn\": 10}',\n",
              " ' \"1010\": {\"discount\": 12',\n",
              " '\"name\": \"Milk \"',\n",
              " ' \"pr\": 900',\n",
              " ' \"qn\": 100}',\n",
              " '\"1012\": {\"discount\": 5',\n",
              " '\"name\": \"Milk \"',\n",
              " ' \"pr\": 900',\n",
              " ' \"qn\": 100}',\n",
              " ' \"1013\": {\"discount\": 25',\n",
              " '\"name\": \"pencil\"',\n",
              " ' \"pr\": 75',\n",
              " ' \"qn\": 1000}',\n",
              " ' \"1014\": {\"discount\": 45',\n",
              " '\"name\": \"Milk \"',\n",
              " ' \"pr\": 900',\n",
              " ' \"qn\": 100}',\n",
              " ' \"1015\": {\"discount\": 7',\n",
              " '\"name\": \"gems\"',\n",
              " ' \"pr\": 28',\n",
              " ' \"qn\": 100}',\n",
              " '\"1016\": {\"discount\": 40',\n",
              " '\"name\": \"butter\"',\n",
              " ' \"pr\": 5000',\n",
              " ' \"qn\": 1000}',\n",
              " ' \"1017\": {\"discount\": 15',\n",
              " '\"name\": \"Mat\"',\n",
              " ' \"pr\": 1580',\n",
              " ' \"qn\": 0}',\n",
              " ' \"1018\": {\"discount\": 35',\n",
              " '\"name\": \"Cassette\"',\n",
              " ' \"pr\": 1599',\n",
              " ' \"qn\": 50}',\n",
              " ' \"1019\": {\"discount\": 50',\n",
              " '\"name\": \"Keys\"',\n",
              " ' \"pr\": 6999',\n",
              " ' \"qn\": 100}',\n",
              " '\"1020\": {\"discount\": 15',\n",
              " '\"name\": \"cellotape\"',\n",
              " ' \"pr\": 499',\n",
              " ' \"qn\": 1000}',\n",
              " '\"1021\": {\"discount\": 42',\n",
              " '\"name\": \"Chocolate\"',\n",
              " ' \"qn\": 634',\n",
              " ' \"pr\":500}',\n",
              " '\"1022\": {\"discount\": 12',\n",
              " '\"name\": \"Jam\"',\n",
              " ' \"pr\": 890',\n",
              " ' \"qn\": 100}',\n",
              " ' \"1023\": {\"discount\": 45',\n",
              " '\"name\": \"bottles\"',\n",
              " ' \"pr\": 285',\n",
              " ' \"qn\": 500}',\n",
              " ' \"1024\": {\"discount\": 38',\n",
              " '\"name\": \"Can\"',\n",
              " ' \"pr\": 59',\n",
              " ' \"qn\": 10}',\n",
              " '\"1025\": {\"discount\": 45',\n",
              " '\"name\": \"Paper\"',\n",
              " ' \"pr\": 27',\n",
              " ' \"qn\": 100}',\n",
              " '\"1026\": {\"discount\": 30',\n",
              " '\"name\": \"bedsheet\"',\n",
              " ' \"pr\": 50010',\n",
              " ' \"qn\": 50}',\n",
              " '\"1027\": {\"discount\": 32',\n",
              " '\"name\": \"AC\"',\n",
              " ' \"pr\": 1580',\n",
              " ' \"qn\": 0}',\n",
              " ' \"1028\": {\"discount\": 25',\n",
              " '\"name\": \"SuitCase\"',\n",
              " ' \"pr\": 899',\n",
              " ' \"qn\": 5}',\n",
              " ' \"1029\": {\"discount\": 25',\n",
              " '\"name\": \"Suit\"',\n",
              " ' \"pr\": 89',\n",
              " ' \"qn\": 5}',\n",
              " ' \"1030\": {\"discount\": 20',\n",
              " '\"name\": \"Sweet\"',\n",
              " ' \"pr\": 70',\n",
              " ' \"qn\": 90}}']"
            ]
          },
          "metadata": {},
          "execution_count": 62
        }
      ]
    },
    {
      "cell_type": "code",
      "metadata": {
        "colab": {
          "base_uri": "https://localhost:8080/"
        },
        "id": "nZkPmDmDq6eX",
        "outputId": "c2f27e17-be83-4a1f-fd65-f79290afb003"
      },
      "source": [
        "products"
      ],
      "execution_count": 46,
      "outputs": [
        {
          "output_type": "execute_result",
          "data": {
            "text/plain": [
              "['{\"1001\": {\"name\": \"Choco Cake\", \"qn\": 34, \"pr\": 100},',\n",
              " ' \"1002\": {\"name\": \"Milk Cake\", \"pr\": 800, \"qn\": 100}, ',\n",
              " '\"1003\": {\"name\": \"Drink\", \"pr\": 85, \"qn\": 100}, ',\n",
              " '\"1004\": {\"name\": \"Candy\", \"pr\": 5, \"qn\": 1000},',\n",
              " ' \"1005\": {\"name\": \"Pen\", \"pr\": 20, \"qn\": 100},',\n",
              " ' \"1006\": {\"name\": \"Phone\", \"pr\": 50000, \"qn\": 10},',\n",
              " ' \"1007\": {\"name\": \"Mic\", \"pr\": 1500, \"qn\": 0}, ',\n",
              " '\"1008\": {\"name\": \"Case\", \"pr\": 599, \"qn\": 5}, ',\n",
              " '\"1009\": {\"name\": \"Keyboard\", \"pr\": 1999, \"qn\": 10}',\n",
              " '\"1010\": {\"name\": \"toy\", \"pr\": 999, \"qn\": 1000}',\n",
              " '\"1011\": {\"name\": \"cake\", \"qn\": 384, \"pr\": 10},',\n",
              " ' \"1012\": {\"name\": \"Milk \", \"pr\": 900, \"qn\": 100}, ',\n",
              " '\"1013\": {\"name\": \"pencil\", \"pr\": 75, \"qn\": 1000}, ',\n",
              " '\"1014\": {\"name\": \"wafers\", \"pr\": 57, \"qn\": 10},',\n",
              " ' \"1015\": {\"name\": \"gems\", \"pr\": 28, \"qn\": 100},',\n",
              " ' \"1016\": {\"name\": \"butter\", \"pr\": 5000, \"qn\": 1000},',\n",
              " ' \"1017\": {\"name\": \"Mat\", \"pr\": 1580, \"qn\": 0}, ',\n",
              " '\"1018\": {\"name\": \"Cassette\", \"pr\": 1599, \"qn\": 50}, ',\n",
              " '\"1019\": {\"name\": \"Keys\", \"pr\": 6999, \"qn\": 100}',\n",
              " '\"1020\": {\"name\": \"cellotape\", \"pr\": 499, \"qn\": 1000}',\n",
              " '\"1021\": {\"name\": \"Chocolate\", \"qn\": 634, \"pr\":500},',\n",
              " ' \"1022\": {\"name\": \"Jam\", \"pr\": 890, \"qn\": 100}, ',\n",
              " '\"1023\": {\"name\": \"bottles\", \"pr\": 285, \"qn\": 500}, ',\n",
              " '\"1024\": {\"name\": \"Can\", \"pr\": 59, \"qn\": 10},',\n",
              " ' \"1025\": {\"name\": \"Paper\", \"pr\": 27, \"qn\": 100},',\n",
              " ' \"1026\": {\"name\": \"bedsheet\", \"pr\": 50010, \"qn\": 50},',\n",
              " ' \"1027\": {\"name\": \"AC\", \"pr\": 1580, \"qn\": 0}, ',\n",
              " '\"1028\": {\"name\": \"SuitCase\", \"pr\": 899, \"qn\": 5}, ',\n",
              " '\"1029\": {\"name\": \"top\", \"pr\": 3999, \"qn\": 10}',\n",
              " '\"1030\": {\"name\": \"watch\", \"pr\": 990, \"qn\": 1000}}',\n",
              " '',\n",
              " '',\n",
              " '']"
            ]
          },
          "metadata": {},
          "execution_count": 46
        }
      ]
    },
    {
      "cell_type": "code",
      "metadata": {
        "colab": {
          "base_uri": "https://localhost:8080/"
        },
        "id": "oerzEG0TrCP_",
        "outputId": "aa3f8921-e7f8-4784-cdbf-83ffad0ddee8"
      },
      "source": [
        "type(ui_quan)"
      ],
      "execution_count": 63,
      "outputs": [
        {
          "output_type": "execute_result",
          "data": {
            "text/plain": [
              "str"
            ]
          },
          "metadata": {},
          "execution_count": 63
        }
      ]
    },
    {
      "cell_type": "code",
      "metadata": {
        "colab": {
          "base_uri": "https://localhost:8080/"
        },
        "id": "2WU_iORNrGcu",
        "outputId": "c6242dc0-48b7-4710-954f-e435b7e90b03"
      },
      "source": [
        "products[0].split(\",\")"
      ],
      "execution_count": 64,
      "outputs": [
        {
          "output_type": "execute_result",
          "data": {
            "text/plain": [
              "['{\"1001\": {\"discount\": 55',\n",
              " '\"name\": \"Choco Cake\"',\n",
              " ' \"qn\": 34',\n",
              " ' \"pr\": 100 }',\n",
              " ' \"1002\": {\"discount\": 59',\n",
              " '\"name\": \"Milk Cake\"',\n",
              " ' \"pr\": 800',\n",
              " ' \"qn\": 100 }',\n",
              " ' \"1003\": {\"discount\": 10',\n",
              " '\"name\": \"Drink\"',\n",
              " ' \"pr\": 85',\n",
              " ' \"qn\": 100 }',\n",
              " ' \"1004\": {\"discount\": 45',\n",
              " '\"name\": \"Candy\"',\n",
              " ' \"pr\": 5',\n",
              " ' \"qn\": 1000 }',\n",
              " ' \"1005\": { \"discount\": 25',\n",
              " '\"name\": \"Pen\"',\n",
              " ' \"pr\": 20',\n",
              " ' \"qn\": 100 }',\n",
              " ' \"1006\": {\"discount\": 20',\n",
              " '\"name\": \"Phone\"',\n",
              " ' \"pr\": 50000',\n",
              " ' \"qn\": 10 }',\n",
              " ' \"1007\": { \"discount\": 55',\n",
              " '\"name\": \"Mic\"',\n",
              " ' \"pr\": 1500',\n",
              " ' \"qn\": 10 }',\n",
              " ' \"1008\": {\"discount\": 60',\n",
              " '\"name\": \"Case\"',\n",
              " ' \"pr\": 599',\n",
              " ' \"qn\": 5 }',\n",
              " ' \"1009\": {\"discount\": 40',\n",
              " '\"name\": \"Keyboard\"',\n",
              " ' \"pr\": 1999',\n",
              " ' \"qn\": 10}',\n",
              " ' \"1010\": {\"discount\": 12',\n",
              " '\"name\": \"Milk \"',\n",
              " ' \"pr\": 900',\n",
              " ' \"qn\": 100}',\n",
              " '\"1012\": {\"discount\": 5',\n",
              " '\"name\": \"Milk \"',\n",
              " ' \"pr\": 900',\n",
              " ' \"qn\": 100}',\n",
              " ' \"1013\": {\"discount\": 25',\n",
              " '\"name\": \"pencil\"',\n",
              " ' \"pr\": 75',\n",
              " ' \"qn\": 1000}',\n",
              " ' \"1014\": {\"discount\": 45',\n",
              " '\"name\": \"Milk \"',\n",
              " ' \"pr\": 900',\n",
              " ' \"qn\": 100}',\n",
              " ' \"1015\": {\"discount\": 7',\n",
              " '\"name\": \"gems\"',\n",
              " ' \"pr\": 28',\n",
              " ' \"qn\": 100}',\n",
              " '\"1016\": {\"discount\": 40',\n",
              " '\"name\": \"butter\"',\n",
              " ' \"pr\": 5000',\n",
              " ' \"qn\": 1000}',\n",
              " ' \"1017\": {\"discount\": 15',\n",
              " '\"name\": \"Mat\"',\n",
              " ' \"pr\": 1580',\n",
              " ' \"qn\": 0}',\n",
              " ' \"1018\": {\"discount\": 35',\n",
              " '\"name\": \"Cassette\"',\n",
              " ' \"pr\": 1599',\n",
              " ' \"qn\": 50}',\n",
              " ' \"1019\": {\"discount\": 50',\n",
              " '\"name\": \"Keys\"',\n",
              " ' \"pr\": 6999',\n",
              " ' \"qn\": 100}',\n",
              " '\"1020\": {\"discount\": 15',\n",
              " '\"name\": \"cellotape\"',\n",
              " ' \"pr\": 499',\n",
              " ' \"qn\": 1000}',\n",
              " '\"1021\": {\"discount\": 42',\n",
              " '\"name\": \"Chocolate\"',\n",
              " ' \"qn\": 634',\n",
              " ' \"pr\":500}',\n",
              " '\"1022\": {\"discount\": 12',\n",
              " '\"name\": \"Jam\"',\n",
              " ' \"pr\": 890',\n",
              " ' \"qn\": 100}',\n",
              " ' \"1023\": {\"discount\": 45',\n",
              " '\"name\": \"bottles\"',\n",
              " ' \"pr\": 285',\n",
              " ' \"qn\": 500}',\n",
              " ' \"1024\": {\"discount\": 38',\n",
              " '\"name\": \"Can\"',\n",
              " ' \"pr\": 59',\n",
              " ' \"qn\": 10}',\n",
              " '\"1025\": {\"discount\": 45',\n",
              " '\"name\": \"Paper\"',\n",
              " ' \"pr\": 27',\n",
              " ' \"qn\": 100}',\n",
              " '\"1026\": {\"discount\": 30',\n",
              " '\"name\": \"bedsheet\"',\n",
              " ' \"pr\": 50010',\n",
              " ' \"qn\": 50}',\n",
              " '\"1027\": {\"discount\": 32',\n",
              " '\"name\": \"AC\"',\n",
              " ' \"pr\": 1580',\n",
              " ' \"qn\": 0}',\n",
              " ' \"1028\": {\"discount\": 25',\n",
              " '\"name\": \"SuitCase\"',\n",
              " ' \"pr\": 899',\n",
              " ' \"qn\": 5}',\n",
              " ' \"1029\": {\"discount\": 25',\n",
              " '\"name\": \"Suit\"',\n",
              " ' \"pr\": 89',\n",
              " ' \"qn\": 5}',\n",
              " ' \"1030\": {\"discount\": 20',\n",
              " '\"name\": \"Sweet\"',\n",
              " ' \"pr\": 70',\n",
              " ' \"qn\": 90}}']"
            ]
          },
          "metadata": {},
          "execution_count": 64
        }
      ]
    },
    {
      "cell_type": "code",
      "metadata": {
        "id": "UpE1U6DYrIT5"
      },
      "source": [
        "fd = open(\"record.txt\", 'w')\n",
        "\n",
        "for i in new_record:\n",
        "  fd.write(i)\n",
        "\n",
        "fd.close()"
      ],
      "execution_count": 29,
      "outputs": []
    },
    {
      "cell_type": "code",
      "metadata": {
        "id": "n4uneIElrWCT"
      },
      "source": [
        "fd = open('record.txt' , 'r')\n",
        "txt = fd.read()\n",
        "fd.close()"
      ],
      "execution_count": 47,
      "outputs": []
    },
    {
      "cell_type": "code",
      "metadata": {
        "colab": {
          "base_uri": "https://localhost:8080/",
          "height": 191
        },
        "id": "oAH2ApgYrZUY",
        "outputId": "02e58194-3ba0-4ee4-c78a-086b8beda61d"
      },
      "source": [
        "r"
      ],
      "execution_count": 48,
      "outputs": [
        {
          "output_type": "execute_result",
          "data": {
            "application/vnd.google.colaboratory.intrinsic+json": {
              "type": "string"
            },
            "text/plain": [
              "'{\"1001\": {\"name\": \"Choco Cake\",{\"1001\": {\"name\": \"Choco Cake\",\\n \"1002\": {\"name\": \"Milk Cake\", \"1002\": {\"name\": \"Milk Cake\",\\n\"1003\": {\"name\": \"Drink\",\"1003\": {\"name\": \"Drink\",\\n\"1004\": {\"name\": \"Candy\",\"1004\": {\"name\": \"Candy\",\\n \"1005\": {\"name\": \"Pen\", \"1005\": {\"name\": \"Pen\",\\n \"1006\": {\"name\": \"Phone\", \"1006\": {\"name\": \"Phone\",\\n \"1007\": {\"name\": \"Mic\", \"1007\": {\"name\": \"Mic\",\\n\"1008\": {\"name\": \"Case\",\"1008\": {\"name\": \"Case\",\\n\"1009\": {\"name\": \"Keyboard\",\"1009\": {\"name\": \"Keyboard\",\\n\"1010\": {\"name\": \"toy\",\"1010\": {\"name\": \"toy\",\\n\"1011\": {\"name\": \"cake\",\"1011\": {\"name\": \"cake\",\\n \"1012\": {\"name\": \"Milk \", \"1012\": {\"name\": \"Milk \",\\n\"1013\": {\"name\": \"pencil\",\"1013\": {\"name\": \"pencil\",\\n\"1014\": {\"name\": \"wafers\",\"1014\": {\"name\": \"wafers\",\\n \"1015\": {\"name\": \"gems\", \"1015\": {\"name\": \"gems\",\\n \"1016\": {\"name\": \"butter\", \"1016\": {\"name\": \"butter\",\\n \"1017\": {\"name\": \"Mat\", \"1017\": {\"name\": \"Mat\",\\n\"1018\": {\"name\": \"Cassette\",\"1018\": {\"name\": \"Cassette\",\\n\"1019\": {\"name\": \"Keys\",\"1019\": {\"name\": \"Keys\",\\n\"1020\": {\"name\": \"cellotape\",\"1020\": {\"name\": \"cellotape\",\\n\"1021\": {\"name\": \"Chocolate\",\"1021\": {\"name\": \"Chocolate\",\\n \"1022\": {\"name\": \"Jam\", \"1022\": {\"name\": \"Jam\",\\n\"1023\": {\"name\": \"bottles\",\"1023\": {\"name\": \"bottles\",\\n\"1024\": {\"name\": \"Can\",\"1024\": {\"name\": \"Can\",\\n \"1025\": {\"name\": \"Paper\", \"1025\": {\"name\": \"Paper\",\\n \"1026\": {\"name\": \"bedsheet\", \"1026\": {\"name\": \"bedsheet\",\\n \"1027\": {\"name\": \"AC\", \"1027\": {\"name\": \"AC\",\\n\"1028\": {\"name\": \"SuitCase\",\"1028\": {\"name\": \"SuitCase\",\\n\"1029\": {\"name\": \"top\",\"1029\": {\"name\": \"top\",\\n\"1030\": {\"name\": \"watch\",\"1030\": {\"name\": \"watch\",\\n,,\\n,,\\n,,'"
            ]
          },
          "metadata": {},
          "execution_count": 48
        }
      ]
    }
  ]
}